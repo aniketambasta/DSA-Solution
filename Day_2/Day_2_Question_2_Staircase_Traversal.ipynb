{
 "cells": [
  {
   "cell_type": "code",
   "execution_count": 4,
   "metadata": {},
   "outputs": [
    {
     "name": "stdout",
     "output_type": "stream",
     "text": [
      "------------------------------\n",
      "Enter the total number of stairs: 4\n",
      "Enter the max steps you can climb at once: 2\n",
      "------------------------------\n",
      "Total number of possible sequence in which you can climb the stairs are-:  5\n",
      "------------------------------\n",
      "press 'q' to quit or enter to continue: q\n"
     ]
    }
   ],
   "source": [
    "import os\n",
    "def staircase(n,s):\n",
    "    result=0\n",
    "    i=1\n",
    "    if (n==1 or n==0):\n",
    "        return 1\n",
    "    \n",
    "    while i<=n and i<=s:\n",
    "        result=result+staircase(n-i,s)\n",
    "        i=i+1\n",
    "    return result\n",
    "   \n",
    "while (True):\n",
    "    print(\"-\"*30) \n",
    "    os.system(\"cls\")\n",
    "    n=int(input(\"Enter the total number of stairs: \"))\n",
    "    s=int(input(\"Enter the max steps you can climb at once: \"))\n",
    "    print(\"-\"*30)\n",
    "    if (s>n):\n",
    "        print(\"-\"*30)\n",
    "        print(\"WARNING\\n\")\n",
    "        print(\"Sorry you have entered max. step more than total number of stairs please enter the details again correctly\")\n",
    "        continue\n",
    "    output=staircase(n,s)\n",
    "    print(\"Total number of possible sequence in which you can climb the stairs are-: \" ,output)\n",
    "    print(\"-\"*30)\n",
    "    choice = input(\"press 'q' to quit or enter to continue: \")\n",
    "    if (choice=='q'):\n",
    "        break\n",
    "        \n",
    "    "
   ]
  },
  {
   "cell_type": "code",
   "execution_count": null,
   "metadata": {},
   "outputs": [],
   "source": []
  },
  {
   "cell_type": "code",
   "execution_count": null,
   "metadata": {},
   "outputs": [],
   "source": []
  }
 ],
 "metadata": {
  "kernelspec": {
   "display_name": "Python 3",
   "language": "python",
   "name": "python3"
  },
  "language_info": {
   "codemirror_mode": {
    "name": "ipython",
    "version": 3
   },
   "file_extension": ".py",
   "mimetype": "text/x-python",
   "name": "python",
   "nbconvert_exporter": "python",
   "pygments_lexer": "ipython3",
   "version": "3.8.5"
  }
 },
 "nbformat": 4,
 "nbformat_minor": 4
}
