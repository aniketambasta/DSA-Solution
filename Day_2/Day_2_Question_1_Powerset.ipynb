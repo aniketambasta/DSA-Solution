{
 "cells": [
  {
   "cell_type": "code",
   "execution_count": 3,
   "metadata": {},
   "outputs": [
    {
     "name": "stdout",
     "output_type": "stream",
     "text": [
      "------------------------------\n",
      "Enter the numbers of element in the list: 3\n",
      "------------------------------\n",
      "Enter 1 element: 1\n",
      "Enter 2 element: 2\n",
      "Enter 3 element: 3\n",
      "------------------------------\n",
      "Powersets of the given list are: \n",
      "------------------------------\n",
      "[]\n",
      "[3]\n",
      "[2]\n",
      "[2,3]\n",
      "[1]\n",
      "[1,3]\n",
      "[1,2]\n",
      "[1,2,3]\n",
      "Enter n to exit or press any key to continue: n\n"
     ]
    }
   ],
   "source": [
    "import os\n",
    "\n",
    "def sets(list, pointers=None, i=0):\n",
    "    if pointers==None:\n",
    "        pointers=[0]*len(list)\n",
    "\n",
    "    if i >= len(list):\n",
    "        subset=[str(list[i]) for i in range(len(list)) if pointers[i]==1]\n",
    "        print(\"[\" + \",\".join(subset) + \"]\")\n",
    "\n",
    "    else:\n",
    "        pointers[i]=0\n",
    "        sets(list, pointers, i+1)\n",
    "        pointers[i]=1\n",
    "        sets(list, pointers, i+1)\n",
    "\n",
    "while True:\n",
    "    os.system(\"cls\")\n",
    "    print(\"-\"*30)\n",
    "    enter=[]\n",
    "    length=int(input(\"Enter the numbers of element in the list: \"))\n",
    "    print(\"-\"*30)\n",
    "    for i in range(length):\n",
    "        num=int(input(\"Enter %d element: \" %(i+1)))\n",
    "        enter.append(num)\n",
    "    print(\"-\"*30)\n",
    "    print(\"Powersets of the given list are: \")\n",
    "    print(\"-\"*30)\n",
    "    sets(enter)\n",
    "    choice=input(\"Enter n to exit or press any key to continue: \")\n",
    "    if choice==\"n\":\n",
    "        break"
   ]
  },
  {
   "cell_type": "code",
   "execution_count": null,
   "metadata": {},
   "outputs": [],
   "source": []
  },
  {
   "cell_type": "code",
   "execution_count": null,
   "metadata": {},
   "outputs": [],
   "source": []
  }
 ],
 "metadata": {
  "kernelspec": {
   "display_name": "Python 3",
   "language": "python",
   "name": "python3"
  },
  "language_info": {
   "codemirror_mode": {
    "name": "ipython",
    "version": 3
   },
   "file_extension": ".py",
   "mimetype": "text/x-python",
   "name": "python",
   "nbconvert_exporter": "python",
   "pygments_lexer": "ipython3",
   "version": "3.8.5"
  }
 },
 "nbformat": 4,
 "nbformat_minor": 4
}
