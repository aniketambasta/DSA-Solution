{
 "cells": [
  {
   "cell_type": "code",
   "execution_count": 9,
   "metadata": {},
   "outputs": [
    {
     "name": "stdout",
     "output_type": "stream",
     "text": [
      "------------------------------\n",
      "Enter the numbers of element in the list: 3\n",
      "------------------------------\n",
      "Enter element no. 1 : 1\n",
      "Enter element no. 2 : 2\n",
      "Enter element no. 3 : 3\n",
      "------------------------------\n",
      "Required Permutations are:  [[1, 2, 3], [1, 3, 2], [2, 1, 3], [2, 3, 1], [3, 1, 2], [3, 2, 1]]\n",
      "Enter q to Quit or press any key to continue: q\n"
     ]
    }
   ],
   "source": [
    "import os\n",
    "\n",
    "def permutation(integer):  \n",
    "    if len(integer) == 0:  \n",
    "       return []  \n",
    "    if len(integer) == 1:  \n",
    "       return [integer]  \n",
    "    l = []  \n",
    "    for i in range(len(integer)):  \n",
    "       m = integer[i]   \n",
    "       rem = integer[:i] + integer[i+1:]  \n",
    "       for p in permutation(rem):  \n",
    "            l.append([m] + p)  \n",
    "    return l\n",
    "\n",
    "while True:\n",
    "    os.system(\"cls\")\n",
    "    print(\"-\"*30)\n",
    "    enter=[]\n",
    "    length=int(input(\"Enter the numbers of element in the list: \"))\n",
    "    print(\"-\"*30)\n",
    "    for i in range(length):\n",
    "        num=int(input(\"Enter element no. %d : \" %(i+1)))\n",
    "        enter.append(num)\n",
    "    print(\"-\"*30)\n",
    "    print(\"Required Permutations are: \", permutation(enter))\n",
    "    choice=input(\"Enter q to Quit or press any key to continue: \")\n",
    "    if choice==\"q\":\n",
    "        break"
   ]
  },
  {
   "cell_type": "code",
   "execution_count": null,
   "metadata": {},
   "outputs": [],
   "source": []
  },
  {
   "cell_type": "code",
   "execution_count": null,
   "metadata": {},
   "outputs": [],
   "source": []
  }
 ],
 "metadata": {
  "kernelspec": {
   "display_name": "Python 3",
   "language": "python",
   "name": "python3"
  },
  "language_info": {
   "codemirror_mode": {
    "name": "ipython",
    "version": 3
   },
   "file_extension": ".py",
   "mimetype": "text/x-python",
   "name": "python",
   "nbconvert_exporter": "python",
   "pygments_lexer": "ipython3",
   "version": "3.8.5"
  }
 },
 "nbformat": 4,
 "nbformat_minor": 4
}
