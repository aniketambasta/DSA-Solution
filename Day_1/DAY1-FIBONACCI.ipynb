{
 "cells": [
  {
   "cell_type": "code",
   "execution_count": 8,
   "metadata": {},
   "outputs": [
    {
     "name": "stdout",
     "output_type": "stream",
     "text": [
      "------------------------------\n",
      "Enter a number for Fibonacci series: 65\n",
      "------------------------------\n",
      "[[0], [1], [1], [2], [3], [5], [8], [13], [21], [34], [55], [89], [144], [233], [377], [610], [987], [1597], [2584], [4181], [6765], [10946], [17711], [28657], [46368], [75025], [121393], [196418], [317811], [514229], [832040], [1346269], [2178309], [3524578], [5702887], [9227465], [14930352], [24157817], [39088169], [63245986], [102334155], [165580141], [267914296], [433494437], [701408733], [1134903170], [1836311903], [2971215073], [4807526976], [7778742049], [12586269025], [20365011074], [32951280099], [53316291173], [86267571272], [139583862445], [225851433717], [365435296162], [591286729879], [956722026041], [1548008755920], [2504730781961], [4052739537881], [6557470319842], [10610209857723]]\n",
      "------------------------------\n",
      "Enter n to exit or press any key to continue: n\n"
     ]
    }
   ],
   "source": [
    "import os\n",
    "import array as arr\n",
    "\n",
    "def Fibonacci():\n",
    "    num=int(input(\"Enter a number for Fibonacci series: \"))\n",
    "    print(\"-\"*30)\n",
    "    pos_1=0\n",
    "    pos_2=1\n",
    "    output=[]\n",
    "    for i in range(0, num):\n",
    "        if i<=1:\n",
    "            sum=i\n",
    "        else:\n",
    "            sum=pos_1+pos_2\n",
    "            pos_1=pos_2\n",
    "            pos_2=sum\n",
    "        output.append([sum])\n",
    "    return output\n",
    "\n",
    "while(True):\n",
    "    os.system(\"cls\")\n",
    "    print(\"-\"*30)\n",
    "    print(Fibonacci())\n",
    "    print(\"-\"*30)\n",
    "    choice=input(\"Enter n to exit or press any key to continue: \")\n",
    "    if choice==\"n\":\n",
    "        break"
   ]
  },
  {
   "cell_type": "code",
   "execution_count": null,
   "metadata": {},
   "outputs": [],
   "source": []
  }
 ],
 "metadata": {
  "kernelspec": {
   "display_name": "Python 3",
   "language": "python",
   "name": "python3"
  }
 },
 "nbformat": 4,
 "nbformat_minor": 4
}
