{
 "cells": [
  {
   "cell_type": "code",
   "execution_count": 13,
   "metadata": {},
   "outputs": [
    {
     "name": "stdout",
     "output_type": "stream",
     "text": [
      "------------------------------\n",
      "Enter the depth of the array: 4\n",
      "Enter the size of the array: 5\n",
      "------------\n",
      "Enter the element no. 1 : 7\n",
      "Enter the element no. 2 : 5\n",
      "Enter the element no. 3 : 3\n",
      "Enter the element no. 4 : 1\n",
      "Enter the element no. 5 : 9\n",
      "Entered array is:  array('i', [7, 5, 3, 1, 9])\n",
      "------------------------------\n",
      "Final sum of the Special Array:  100\n",
      "Enter n for answer and exit or press any key to continue: n\n"
     ]
    }
   ],
   "source": [
    "import array as arr\n",
    "import os\n",
    "\n",
    "a=arr.array('i', [])\n",
    "total=0; result=0\n",
    "\n",
    "def Product_Sum(depth, a):\n",
    "    total=sum(a)\n",
    "    print(\"-\"*30)\n",
    "    final=depth*total\n",
    "    return(final)\n",
    "\n",
    "while(True):\n",
    "    os.system(\"cls\")\n",
    "    print(\"-\"*30)\n",
    "    depth=int(input(\"Enter the depth of the array: \"))\n",
    "    size=int(input(\"Enter the size of the array: \"))\n",
    "    print(\"-\"*12)\n",
    "    for i in range(size):\n",
    "        num=int(input(\"Enter the element no. %d : \" %(i+1)))\n",
    "        a.append(num)\n",
    "    print(\"Entered array is: \", a)\n",
    "    result=result+Product_Sum(depth, a)\n",
    "    print(\"Final sum of the Special Array: \", result)\n",
    "    choice=input(\"Enter n for answer and exit or press any key to continue: \")\n",
    "    a=arr.array('i', [])\n",
    "    result=0\n",
    "    if (choice==\"n\"):\n",
    "        break"
   ]
  },
  {
   "cell_type": "code",
   "execution_count": null,
   "metadata": {},
   "outputs": [],
   "source": []
  },
  {
   "cell_type": "code",
   "execution_count": null,
   "metadata": {},
   "outputs": [],
   "source": []
  }
 ],
 "metadata": {
  "kernelspec": {
   "display_name": "Python 3",
   "language": "python",
   "name": "python3"
  },
  "language_info": {
   "codemirror_mode": {
    "name": "ipython",
    "version": 3
   },
   "file_extension": ".py",
   "mimetype": "text/x-python",
   "name": "python",
   "nbconvert_exporter": "python",
   "pygments_lexer": "ipython3",
   "version": "3.8.5"
  }
 },
 "nbformat": 4,
 "nbformat_minor": 4
}
